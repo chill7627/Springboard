{
 "cells": [
  {
   "cell_type": "markdown",
   "metadata": {},
   "source": [
    "****\n",
    "## JSON exercise\n",
    "\n",
    "Using data in file 'data/world_bank_projects.json' and the techniques demonstrated above,\n",
    "1. Find the 10 countries with most projects\n",
    "2. Find the top 10 major project themes (using column 'mjtheme_namecode')\n",
    "3. In 2. above you will notice that some entries have only the code and the name is missing. Create a dataframe with the missing names filled in."
   ]
  },
  {
   "cell_type": "markdown",
   "metadata": {},
   "source": [
    "## Import proper packages and open and load the json file."
   ]
  },
  {
   "cell_type": "code",
   "execution_count": 8,
   "metadata": {
    "collapsed": true
   },
   "outputs": [],
   "source": [
    "#import the pandas, json, and matplotlib.pyplot packages\n",
    "import pandas as pd\n",
    "import matplotlib as mpl\n",
    "import matplotlib.pyplot as plt\n",
    "import seaborn as sns\n",
    "import json\n",
    "from pandas.io.json import json_normalize"
   ]
  },
  {
   "cell_type": "code",
   "execution_count": 9,
   "metadata": {
    "collapsed": true
   },
   "outputs": [],
   "source": [
    "#set the filepath for the world bank projects data\n",
    "file = 'data/world_bank_projects.json'"
   ]
  },
  {
   "cell_type": "code",
   "execution_count": 10,
   "metadata": {},
   "outputs": [
    {
     "name": "stdout",
     "output_type": "stream",
     "text": [
      "<class 'list'>\n",
      "{'sector': [{'Name': 'Primary education'}, {'Name': 'Secondary education'}, {'Name': 'Public administration- Other social services'}, {'Name': 'Tertiary education'}], 'supplementprojectflg': 'N', 'projectfinancialtype': 'IDA', 'prodline': 'PE', 'mjtheme': ['Human development'], 'idacommamt': 130000000, 'impagency': 'MINISTRY OF EDUCATION', 'project_name': 'Ethiopia General Education Quality Improvement Project II', 'mjthemecode': '8,11', 'closingdate': '2018-07-07T00:00:00Z', 'totalcommamt': 130000000, 'id': 'P129828', 'mjsector_namecode': [{'code': 'EX', 'name': 'Education'}, {'code': 'EX', 'name': 'Education'}, {'code': 'BX', 'name': 'Public Administration, Law, and Justice'}, {'code': 'EX', 'name': 'Education'}], 'docty': 'Project Information Document,Indigenous Peoples Plan,Project Information Document', 'sector1': {'Percent': 46, 'Name': 'Primary education'}, 'lendinginstr': 'Investment Project Financing', 'countrycode': 'ET', 'sector2': {'Percent': 26, 'Name': 'Secondary education'}, 'totalamt': 130000000, 'mjtheme_namecode': [{'code': '8', 'name': 'Human development'}, {'code': '11', 'name': ''}], 'boardapprovaldate': '2013-11-12T00:00:00Z', 'countryshortname': 'Ethiopia', 'sector4': {'Percent': 12, 'Name': 'Tertiary education'}, 'prodlinetext': 'IBRD/IDA', 'productlinetype': 'L', 'regionname': 'Africa', 'status': 'Active', 'country_namecode': 'Federal Democratic Republic of Ethiopia!$!ET', 'envassesmentcategorycode': 'C', 'project_abstract': {'cdata': 'The development objective of the Second Phase of General Education Quality Improvement Project for Ethiopia is to improve learning conditions in primary and secondary schools and strengthen institutions at different levels of educational administration. The project has six components. The first component is curriculum, textbooks, assessment, examinations, and inspection. This component will support improvement of learning conditions in grades KG-12 by providing increased access to teaching and learning materials and through improvements to the curriculum by assessing the strengths and weaknesses of the current curriculum. This component has following four sub-components: (i) curriculum reform and implementation; (ii) teaching and learning materials; (iii) assessment and examinations; and (iv) inspection. The second component is teacher development program (TDP). This component will support improvements in learning conditions in both primary and secondary schools by advancing the quality of teaching in general education through: (a) enhancing the training of pre-service teachers in teacher education institutions; and (b) improving the quality of in-service teacher training. This component has following three sub-components: (i) pre-service teacher training; (ii) in-service teacher training; and (iii) licensing and relicensing of teachers and school leaders. The third component is school improvement plan. This component will support the strengthening of school planning in order to improve learning outcomes, and to partly fund the school improvement plans through school grants. It has following two sub-components: (i) school improvement plan; and (ii) school grants. The fourth component is management and capacity building, including education management information systems (EMIS). This component will support management and capacity building aspect of the project. This component has following three sub-components: (i) capacity building for education planning and management; (ii) capacity building for school planning and management; and (iii) EMIS. The fifth component is improving the quality of learning and teaching in secondary schools and universities through the use of information and communications technology (ICT). It has following five sub-components: (i) national policy and institution for ICT in general education; (ii) national ICT infrastructure improvement plan for general education; (iii) develop an integrated monitoring, evaluation, and learning system specifically for the ICT component; (iv) teacher professional development in the use of ICT; and (v) provision of limited number of e-Braille display readers with the possibility to scale up to all secondary education schools based on the successful implementation and usage of the readers. The sixth component is program coordination, monitoring and evaluation, and communication. It will support institutional strengthening by developing capacities in all aspects of program coordination, monitoring and evaluation; a new sub-component on communications will support information sharing for better management and accountability. It has following three sub-components: (i) program coordination; (ii) monitoring and evaluation (M and E); and (iii) communication.'}, 'approvalfy': 1999, 'projectdocs': [{'DocDate': '28-AUG-2013', 'EntityID': '090224b081e545fb_1_0', 'DocURL': 'http://www-wds.worldbank.org/servlet/WDSServlet?pcont=details&eid=090224b081e545fb_1_0', 'DocType': 'PID', 'DocTypeDesc': 'Project Information Document (PID),  Vol.'}, {'DocDate': '01-JUL-2013', 'EntityID': '000442464_20130920111729', 'DocURL': 'http://www-wds.worldbank.org/servlet/WDSServlet?pcont=details&eid=000442464_20130920111729', 'DocType': 'IP', 'DocTypeDesc': 'Indigenous Peoples Plan (IP),  Vol.1 of 1'}, {'DocDate': '22-NOV-2012', 'EntityID': '090224b0817b19e2_1_0', 'DocURL': 'http://www-wds.worldbank.org/servlet/WDSServlet?pcont=details&eid=090224b0817b19e2_1_0', 'DocType': 'PID', 'DocTypeDesc': 'Project Information Document (PID),  Vol.'}], 'lendprojectcost': 550000000, 'lendinginstrtype': 'IN', 'theme1': {'Percent': 100, 'Name': 'Education for all'}, 'grantamt': 0, 'themecode': '65', 'borrower': 'FEDERAL DEMOCRATIC REPUBLIC OF ETHIOPIA', 'sectorcode': 'ET,BS,ES,EP', 'sector3': {'Percent': 16, 'Name': 'Public administration- Other social services'}, 'majorsector_percent': [{'Percent': 46, 'Name': 'Education'}, {'Percent': 26, 'Name': 'Education'}, {'Percent': 16, 'Name': 'Public Administration, Law, and Justice'}, {'Percent': 12, 'Name': 'Education'}], 'board_approval_month': 'November', 'theme_namecode': [{'code': '65', 'name': 'Education for all'}], 'countryname': 'Federal Democratic Republic of Ethiopia', 'url': 'http://www.worldbank.org/projects/P129828/ethiopia-general-education-quality-improvement-project-ii?lang=en', 'source': 'IBRD', 'projectstatusdisplay': 'Active', 'ibrdcommamt': 0, 'sector_namecode': [{'code': 'EP', 'name': 'Primary education'}, {'code': 'ES', 'name': 'Secondary education'}, {'code': 'BS', 'name': 'Public administration- Other social services'}, {'code': 'ET', 'name': 'Tertiary education'}], '_id': {'$oid': '52b213b38594d8a2be17c780'}}\n"
     ]
    }
   ],
   "source": [
    "#have and initial look at the file \n",
    "with open(file) as json_file:\n",
    "    json_data = json.load(json_file) \n",
    "print(type(json_data))\n",
    "print(json_data[0])"
   ]
  },
  {
   "cell_type": "code",
   "execution_count": 11,
   "metadata": {},
   "outputs": [
    {
     "name": "stdout",
     "output_type": "stream",
     "text": [
      "500\n"
     ]
    }
   ],
   "source": [
    "#find out how many dicts are in the list of dicts\n",
    "print(len(json_data))"
   ]
  },
  {
   "cell_type": "markdown",
   "metadata": {},
   "source": [
    "## Find out the structure of the dicts in the list"
   ]
  },
  {
   "cell_type": "code",
   "execution_count": 12,
   "metadata": {},
   "outputs": [
    {
     "data": {
      "text/plain": [
       "dict_keys(['sector', 'supplementprojectflg', 'projectfinancialtype', 'prodline', 'mjtheme', 'idacommamt', 'impagency', 'project_name', 'mjthemecode', 'closingdate', 'totalcommamt', 'id', 'mjsector_namecode', 'docty', 'sector1', 'lendinginstr', 'countrycode', 'sector2', 'totalamt', 'mjtheme_namecode', 'boardapprovaldate', 'countryshortname', 'sector4', 'prodlinetext', 'productlinetype', 'regionname', 'status', 'country_namecode', 'envassesmentcategorycode', 'project_abstract', 'approvalfy', 'projectdocs', 'lendprojectcost', 'lendinginstrtype', 'theme1', 'grantamt', 'themecode', 'borrower', 'sectorcode', 'sector3', 'majorsector_percent', 'board_approval_month', 'theme_namecode', 'countryname', 'url', 'source', 'projectstatusdisplay', 'ibrdcommamt', 'sector_namecode', '_id'])"
      ]
     },
     "execution_count": 12,
     "metadata": {},
     "output_type": "execute_result"
    }
   ],
   "source": [
    "json_data[0].keys()"
   ]
  },
  {
   "cell_type": "code",
   "execution_count": 13,
   "metadata": {},
   "outputs": [
    {
     "data": {
      "text/plain": [
       "dict_keys(['sector', 'supplementprojectflg', 'projectfinancialtype', 'prodline', 'mjtheme', 'idacommamt', 'impagency', 'project_name', 'mjthemecode', 'totalcommamt', 'id', 'mjsector_namecode', 'docty', 'sector1', 'lendinginstr', 'countrycode', 'sector2', 'totalamt', 'mjtheme_namecode', 'boardapprovaldate', 'countryshortname', 'source', 'prodlinetext', 'productlinetype', 'regionname', 'status', 'country_namecode', 'envassesmentcategorycode', 'approvalfy', 'projectdocs', 'lendprojectcost', 'lendinginstrtype', 'theme1', 'grantamt', 'themecode', 'borrower', 'sectorcode', 'majorsector_percent', 'board_approval_month', 'theme_namecode', 'countryname', 'url', 'projectstatusdisplay', 'ibrdcommamt', 'sector_namecode', '_id'])"
      ]
     },
     "execution_count": 13,
     "metadata": {},
     "output_type": "execute_result"
    }
   ],
   "source": [
    "json_data[1].keys()"
   ]
  },
  {
   "cell_type": "markdown",
   "metadata": {},
   "source": [
    "## Each dict in the list is a project"
   ]
  },
  {
   "cell_type": "code",
   "execution_count": 14,
   "metadata": {},
   "outputs": [
    {
     "name": "stdout",
     "output_type": "stream",
     "text": [
      "<class 'pandas.core.frame.DataFrame'>\n",
      "RangeIndex: 500 entries, 0 to 499\n",
      "Data columns (total 50 columns):\n",
      "_id                         500 non-null object\n",
      "approvalfy                  500 non-null object\n",
      "board_approval_month        500 non-null object\n",
      "boardapprovaldate           500 non-null object\n",
      "borrower                    485 non-null object\n",
      "closingdate                 370 non-null object\n",
      "country_namecode            500 non-null object\n",
      "countrycode                 500 non-null object\n",
      "countryname                 500 non-null object\n",
      "countryshortname            500 non-null object\n",
      "docty                       446 non-null object\n",
      "envassesmentcategorycode    430 non-null object\n",
      "grantamt                    500 non-null int64\n",
      "ibrdcommamt                 500 non-null int64\n",
      "id                          500 non-null object\n",
      "idacommamt                  500 non-null int64\n",
      "impagency                   472 non-null object\n",
      "lendinginstr                495 non-null object\n",
      "lendinginstrtype            495 non-null object\n",
      "lendprojectcost             500 non-null int64\n",
      "majorsector_percent         500 non-null object\n",
      "mjsector_namecode           500 non-null object\n",
      "mjtheme                     491 non-null object\n",
      "mjtheme_namecode            500 non-null object\n",
      "mjthemecode                 500 non-null object\n",
      "prodline                    500 non-null object\n",
      "prodlinetext                500 non-null object\n",
      "productlinetype             500 non-null object\n",
      "project_abstract            362 non-null object\n",
      "project_name                500 non-null object\n",
      "projectdocs                 446 non-null object\n",
      "projectfinancialtype        500 non-null object\n",
      "projectstatusdisplay        500 non-null object\n",
      "regionname                  500 non-null object\n",
      "sector                      500 non-null object\n",
      "sector1                     500 non-null object\n",
      "sector2                     380 non-null object\n",
      "sector3                     265 non-null object\n",
      "sector4                     174 non-null object\n",
      "sector_namecode             500 non-null object\n",
      "sectorcode                  500 non-null object\n",
      "source                      500 non-null object\n",
      "status                      500 non-null object\n",
      "supplementprojectflg        498 non-null object\n",
      "theme1                      500 non-null object\n",
      "theme_namecode              491 non-null object\n",
      "themecode                   491 non-null object\n",
      "totalamt                    500 non-null int64\n",
      "totalcommamt                500 non-null int64\n",
      "url                         500 non-null object\n",
      "dtypes: int64(6), object(44)\n",
      "memory usage: 195.4+ KB\n"
     ]
    }
   ],
   "source": [
    "#load list of dicts into a dataframe df and examine the info df\n",
    "df = pd.DataFrame(json_data)\n",
    "df.info()\n"
   ]
  },
  {
   "cell_type": "markdown",
   "metadata": {},
   "source": [
    "## After looking at the dataframe info, a subset dataframe will be assembled with pertinent columns from the original dataframe into df_subset."
   ]
  },
  {
   "cell_type": "code",
   "execution_count": 15,
   "metadata": {},
   "outputs": [
    {
     "name": "stdout",
     "output_type": "stream",
     "text": [
      "<class 'pandas.core.frame.DataFrame'>\n",
      "RangeIndex: 500 entries, 0 to 499\n",
      "Data columns (total 5 columns):\n",
      "id              500 non-null object\n",
      "project_name    500 non-null object\n",
      "regionname      500 non-null object\n",
      "countrycode     500 non-null object\n",
      "countryname     500 non-null object\n",
      "dtypes: object(5)\n",
      "memory usage: 19.6+ KB\n",
      "None\n",
      "        id                                       project_name  \\\n",
      "0  P129828  Ethiopia General Education Quality Improvement...   \n",
      "1  P144674          TN: DTF Social Protection Reforms Support   \n",
      "2  P145310  Tuvalu Aviation Investment Project - Additiona...   \n",
      "3  P144665   Gov't and Civil Society Organization Partnership   \n",
      "4  P144933  Second Private Sector Competitiveness and Econ...   \n",
      "\n",
      "                     regionname countrycode  \\\n",
      "0                        Africa          ET   \n",
      "1  Middle East and North Africa          TN   \n",
      "2         East Asia and Pacific          TV   \n",
      "3  Middle East and North Africa          RY   \n",
      "4                        Africa          LS   \n",
      "\n",
      "                               countryname  \n",
      "0  Federal Democratic Republic of Ethiopia  \n",
      "1                      Republic of Tunisia  \n",
      "2                                   Tuvalu  \n",
      "3                        Republic of Yemen  \n",
      "4                       Kingdom of Lesotho  \n"
     ]
    }
   ],
   "source": [
    "#Create the subset dataframe and look at its relevant info and structure.\n",
    "#Then, check to see if each project has a unique id and thus the dataframe is free from duplicates.\n",
    "df_subset = df[['id','project_name','regionname','countrycode','countryname']]\n",
    "print(df_subset.info())\n",
    "print(df_subset.head())"
   ]
  },
  {
   "cell_type": "code",
   "execution_count": 16,
   "metadata": {
    "collapsed": true
   },
   "outputs": [],
   "source": [
    "#check to see if each entry has a unique id; an error is thrown if each id isn't unique in the dataframe.\n",
    "assert df_subset.id.value_counts()[0]==1"
   ]
  },
  {
   "cell_type": "markdown",
   "metadata": {},
   "source": [
    "## Now find the top counts of projects per country."
   ]
  },
  {
   "cell_type": "code",
   "execution_count": 17,
   "metadata": {},
   "outputs": [
    {
     "name": "stdout",
     "output_type": "stream",
     "text": [
      "Republic of Indonesia                       19\n",
      "People's Republic of China                  19\n",
      "Socialist Republic of Vietnam               17\n",
      "Republic of India                           16\n",
      "Republic of Yemen                           13\n",
      "Nepal                                       12\n",
      "People's Republic of Bangladesh             12\n",
      "Kingdom of Morocco                          12\n",
      "Africa                                      11\n",
      "Republic of Mozambique                      11\n",
      "Islamic Republic of Pakistan                 9\n",
      "Federative Republic of Brazil                9\n",
      "Burkina Faso                                 9\n",
      "United Republic of Tanzania                  8\n",
      "Republic of Tajikistan                       8\n",
      "Republic of Armenia                          8\n",
      "Hashemite Kingdom of Jordan                  7\n",
      "Federal Republic of Nigeria                  7\n",
      "Lao People's Democratic Republic             7\n",
      "Kyrgyz Republic                              7\n",
      "Islamic State of Afghanistan                 6\n",
      "West Bank and Gaza                           6\n",
      "Democratic Republic of the Congo             6\n",
      "Republic of Peru                             6\n",
      "Republic of Kenya                            6\n",
      "Republic of Nicaragua                        6\n",
      "Republic of Liberia                          5\n",
      "The Independent State of Papua New Guine     5\n",
      "Republic of Uzbekistan                       5\n",
      "Republic of Moldova                          5\n",
      "                                            ..\n",
      "South Asia                                   2\n",
      "Republic of Kosovo                           2\n",
      "Republic of the Marshall Islands             2\n",
      "Republic of Cameroon                         2\n",
      "Republic of Malawi                           2\n",
      "Republic of Sierra Leone                     2\n",
      "Democratic Republic of Sao Tome and Prin     2\n",
      "Antigua and Barbuda                          1\n",
      "East Asia and Pacific                        1\n",
      "Republic of Poland                           1\n",
      "Republic of Chad                             1\n",
      "Republic of Kiribati                         1\n",
      "Republic of Serbia                           1\n",
      "Republic of Zimbabwe                         1\n",
      "Republic of Namibia                          1\n",
      "Bosnia and Herzegovina                       1\n",
      "Kingdom of Tonga                             1\n",
      "Kingdom of Thailand                          1\n",
      "Republic of Congo                            1\n",
      "Republic of Chile                            1\n",
      "Europe and Central Asia                      1\n",
      "Romania                                      1\n",
      "Republic of Costa Rica                       1\n",
      "People's Republic of Angola                  1\n",
      "Republic of Belarus                          1\n",
      "Republic of Cape Verde                       1\n",
      "Democratic Socialist Republic of Sri Lan     1\n",
      "Central African Republic                     1\n",
      "Tuvalu                                       1\n",
      "Republic of Panama                           1\n",
      "Name: countryname, Length: 118, dtype: int64\n"
     ]
    }
   ],
   "source": [
    "#find unique cases of countryname and counts of those unique appearances in the dataframe\n",
    "countries = df_subset.countryname.value_counts()\n",
    "print(countries)"
   ]
  },
  {
   "cell_type": "markdown",
   "metadata": {},
   "source": [
    "## There are entries with Africa as the country.  Africa is a continent.  Looking into these cases.  It seems that the Africa entries and other non country countryname entities are multiregional projects.  "
   ]
  },
  {
   "cell_type": "code",
   "execution_count": 18,
   "metadata": {
    "scrolled": true
   },
   "outputs": [
    {
     "data": {
      "text/html": [
       "<div>\n",
       "<style>\n",
       "    .dataframe thead tr:only-child th {\n",
       "        text-align: right;\n",
       "    }\n",
       "\n",
       "    .dataframe thead th {\n",
       "        text-align: left;\n",
       "    }\n",
       "\n",
       "    .dataframe tbody tr th {\n",
       "        vertical-align: top;\n",
       "    }\n",
       "</style>\n",
       "<table border=\"1\" class=\"dataframe\">\n",
       "  <thead>\n",
       "    <tr style=\"text-align: right;\">\n",
       "      <th></th>\n",
       "      <th>id</th>\n",
       "      <th>project_name</th>\n",
       "      <th>regionname</th>\n",
       "      <th>countrycode</th>\n",
       "      <th>countryname</th>\n",
       "    </tr>\n",
       "  </thead>\n",
       "  <tbody>\n",
       "    <tr>\n",
       "      <th>45</th>\n",
       "      <td>P125018</td>\n",
       "      <td>West Africa  Regional Disease Surveillance Cap...</td>\n",
       "      <td>Africa</td>\n",
       "      <td>3A</td>\n",
       "      <td>Africa</td>\n",
       "    </tr>\n",
       "    <tr>\n",
       "      <th>46</th>\n",
       "      <td>P118213</td>\n",
       "      <td>RCIP4 - Regional Communications Infrastructure...</td>\n",
       "      <td>Africa</td>\n",
       "      <td>3A</td>\n",
       "      <td>Africa</td>\n",
       "    </tr>\n",
       "    <tr>\n",
       "      <th>51</th>\n",
       "      <td>P130888</td>\n",
       "      <td>Building Resilience through Innovation, Commun...</td>\n",
       "      <td>Africa</td>\n",
       "      <td>3A</td>\n",
       "      <td>Africa</td>\n",
       "    </tr>\n",
       "    <tr>\n",
       "      <th>58</th>\n",
       "      <td>P144902</td>\n",
       "      <td>Fighting against wildlife poaching and illegal...</td>\n",
       "      <td>Africa</td>\n",
       "      <td>3A</td>\n",
       "      <td>Africa</td>\n",
       "    </tr>\n",
       "    <tr>\n",
       "      <th>65</th>\n",
       "      <td>P075941</td>\n",
       "      <td>Regional Rusumo Falls Hydroelectric Project</td>\n",
       "      <td>Africa</td>\n",
       "      <td>3A</td>\n",
       "      <td>Africa</td>\n",
       "    </tr>\n",
       "    <tr>\n",
       "      <th>99</th>\n",
       "      <td>P145160</td>\n",
       "      <td>Additional Financing-West Africa Agricultural ...</td>\n",
       "      <td>Africa</td>\n",
       "      <td>3A</td>\n",
       "      <td>Africa</td>\n",
       "    </tr>\n",
       "    <tr>\n",
       "      <th>167</th>\n",
       "      <td>P123093</td>\n",
       "      <td>West Africa Regional Communications Infrastruc...</td>\n",
       "      <td>Africa</td>\n",
       "      <td>3A</td>\n",
       "      <td>Africa</td>\n",
       "    </tr>\n",
       "    <tr>\n",
       "      <th>184</th>\n",
       "      <td>P120370</td>\n",
       "      <td>Southern Africa Trade and Transport Facilitati...</td>\n",
       "      <td>Africa</td>\n",
       "      <td>3A</td>\n",
       "      <td>Africa</td>\n",
       "    </tr>\n",
       "    <tr>\n",
       "      <th>287</th>\n",
       "      <td>P094183</td>\n",
       "      <td>Agricultural Productivity Program for Southern...</td>\n",
       "      <td>Africa</td>\n",
       "      <td>3A</td>\n",
       "      <td>Africa</td>\n",
       "    </tr>\n",
       "    <tr>\n",
       "      <th>353</th>\n",
       "      <td>P130694</td>\n",
       "      <td>Nile Cooperation for Results Project</td>\n",
       "      <td>Africa</td>\n",
       "      <td>3A</td>\n",
       "      <td>Africa</td>\n",
       "    </tr>\n",
       "    <tr>\n",
       "      <th>449</th>\n",
       "      <td>P130174</td>\n",
       "      <td>First Part of the Second Phase of the Niger Ba...</td>\n",
       "      <td>Africa</td>\n",
       "      <td>3A</td>\n",
       "      <td>Africa</td>\n",
       "    </tr>\n",
       "  </tbody>\n",
       "</table>\n",
       "</div>"
      ],
      "text/plain": [
       "          id                                       project_name regionname  \\\n",
       "45   P125018  West Africa  Regional Disease Surveillance Cap...     Africa   \n",
       "46   P118213  RCIP4 - Regional Communications Infrastructure...     Africa   \n",
       "51   P130888  Building Resilience through Innovation, Commun...     Africa   \n",
       "58   P144902  Fighting against wildlife poaching and illegal...     Africa   \n",
       "65   P075941        Regional Rusumo Falls Hydroelectric Project     Africa   \n",
       "99   P145160  Additional Financing-West Africa Agricultural ...     Africa   \n",
       "167  P123093  West Africa Regional Communications Infrastruc...     Africa   \n",
       "184  P120370  Southern Africa Trade and Transport Facilitati...     Africa   \n",
       "287  P094183  Agricultural Productivity Program for Southern...     Africa   \n",
       "353  P130694               Nile Cooperation for Results Project     Africa   \n",
       "449  P130174  First Part of the Second Phase of the Niger Ba...     Africa   \n",
       "\n",
       "    countrycode countryname  \n",
       "45           3A      Africa  \n",
       "46           3A      Africa  \n",
       "51           3A      Africa  \n",
       "58           3A      Africa  \n",
       "65           3A      Africa  \n",
       "99           3A      Africa  \n",
       "167          3A      Africa  \n",
       "184          3A      Africa  \n",
       "287          3A      Africa  \n",
       "353          3A      Africa  \n",
       "449          3A      Africa  "
      ]
     },
     "execution_count": 18,
     "metadata": {},
     "output_type": "execute_result"
    }
   ],
   "source": [
    "#select only entries that have Africa as entries in the countryname column\n",
    "df_Africa = df_subset.loc[df_subset.countryname == 'Africa']\n",
    "df_Africa"
   ]
  },
  {
   "cell_type": "markdown",
   "metadata": {},
   "source": [
    "## Taking into account multiregional entries as a country entity.  The following is a listing of the top 10 countries for number of projects."
   ]
  },
  {
   "cell_type": "code",
   "execution_count": 19,
   "metadata": {},
   "outputs": [
    {
     "data": {
      "text/plain": [
       "'East Asia and Pacific'"
      ]
     },
     "execution_count": 19,
     "metadata": {},
     "output_type": "execute_result"
    }
   ],
   "source": [
    "#Working out a way to single out region from the df_subset\n",
    "region = df_subset.loc[df_subset['countryname']=='Republic of Indonesia']['regionname'].drop_duplicates().values[0]\n",
    "region"
   ]
  },
  {
   "cell_type": "code",
   "execution_count": 20,
   "metadata": {
    "scrolled": false
   },
   "outputs": [
    {
     "data": {
      "image/png": "[encoded data removed]",
      "text/plain": [
       "<matplotlib.figure.Figure at 0x2067e25ba90>"
      ]
     },
     "metadata": {},
     "output_type": "display_data"
    },
    {
     "data": {
      "text/html": [
       "<div>\n",
       "<style>\n",
       "    .dataframe thead tr:only-child th {\n",
       "        text-align: right;\n",
       "    }\n",
       "\n",
       "    .dataframe thead th {\n",
       "        text-align: left;\n",
       "    }\n",
       "\n",
       "    .dataframe tbody tr th {\n",
       "        vertical-align: top;\n",
       "    }\n",
       "</style>\n",
       "<table border=\"1\" class=\"dataframe\">\n",
       "  <thead>\n",
       "    <tr style=\"text-align: right;\">\n",
       "      <th></th>\n",
       "      <th>project_counts</th>\n",
       "      <th>region</th>\n",
       "    </tr>\n",
       "    <tr>\n",
       "      <th>country</th>\n",
       "      <th></th>\n",
       "      <th></th>\n",
       "    </tr>\n",
       "  </thead>\n",
       "  <tbody>\n",
       "    <tr>\n",
       "      <th>Republic of Indonesia</th>\n",
       "      <td>19</td>\n",
       "      <td>East Asia and Pacific</td>\n",
       "    </tr>\n",
       "    <tr>\n",
       "      <th>People's Republic of China</th>\n",
       "      <td>19</td>\n",
       "      <td>East Asia and Pacific</td>\n",
       "    </tr>\n",
       "    <tr>\n",
       "      <th>Socialist Republic of Vietnam</th>\n",
       "      <td>17</td>\n",
       "      <td>East Asia and Pacific</td>\n",
       "    </tr>\n",
       "    <tr>\n",
       "      <th>Republic of India</th>\n",
       "      <td>16</td>\n",
       "      <td>South Asia</td>\n",
       "    </tr>\n",
       "    <tr>\n",
       "      <th>Republic of Yemen</th>\n",
       "      <td>13</td>\n",
       "      <td>Middle East and North Africa</td>\n",
       "    </tr>\n",
       "    <tr>\n",
       "      <th>Nepal</th>\n",
       "      <td>12</td>\n",
       "      <td>South Asia</td>\n",
       "    </tr>\n",
       "    <tr>\n",
       "      <th>People's Republic of Bangladesh</th>\n",
       "      <td>12</td>\n",
       "      <td>South Asia</td>\n",
       "    </tr>\n",
       "    <tr>\n",
       "      <th>Kingdom of Morocco</th>\n",
       "      <td>12</td>\n",
       "      <td>Middle East and North Africa</td>\n",
       "    </tr>\n",
       "    <tr>\n",
       "      <th>Africa</th>\n",
       "      <td>11</td>\n",
       "      <td>Africa</td>\n",
       "    </tr>\n",
       "    <tr>\n",
       "      <th>Republic of Mozambique</th>\n",
       "      <td>11</td>\n",
       "      <td>Africa</td>\n",
       "    </tr>\n",
       "  </tbody>\n",
       "</table>\n",
       "</div>"
      ],
      "text/plain": [
       "                                 project_counts                        region\n",
       "country                                                                      \n",
       "Republic of Indonesia                        19         East Asia and Pacific\n",
       "People's Republic of China                   19         East Asia and Pacific\n",
       "Socialist Republic of Vietnam                17         East Asia and Pacific\n",
       "Republic of India                            16                    South Asia\n",
       "Republic of Yemen                            13  Middle East and North Africa\n",
       "Nepal                                        12                    South Asia\n",
       "People's Republic of Bangladesh              12                    South Asia\n",
       "Kingdom of Morocco                           12  Middle East and North Africa\n",
       "Africa                                       11                        Africa\n",
       "Republic of Mozambique                       11                        Africa"
      ]
     },
     "execution_count": 20,
     "metadata": {},
     "output_type": "execute_result"
    }
   ],
   "source": [
    "#Create a series of the top ten countries from the countries value counts created earlier.\n",
    "#Add regionname column to the series.\n",
    "#Then plot a bar chart of the data, with hue set by country region.\n",
    "top10countries = countries[0:10]\n",
    "top10countries = pd.DataFrame(top10countries)\n",
    "top10countries['regionname'] = [df_subset.loc[df_subset.countryname==index]['regionname'].drop_duplicates().values[0] for index in top10countries.index]\n",
    "#change the column names and index name\n",
    "top10countries.columns = [['project_counts','region']]\n",
    "top10countries.index.names = ['country']\n",
    "#Create plot\n",
    "sns.barplot(x=top10countries.index, y='project_counts',data=top10countries, hue = 'region', dodge = False)\n",
    "plt.title('Project Counts per Country')\n",
    "plt.xticks(rotation=90)\n",
    "plt.yticks(range(0,21,5))\n",
    "plt.ylabel('Project Count')\n",
    "plt.show()\n",
    "top10countries"
   ]
  },
  {
   "cell_type": "markdown",
   "metadata": {},
   "source": [
    "## Now onto finding the top 10 project themes.  Upon exploring the theme data, the missing name data is represented as blanks.  These will be edited and given the correct name based on the corresponding theme code."
   ]
  },
  {
   "cell_type": "code",
   "execution_count": 21,
   "metadata": {},
   "outputs": [
    {
     "name": "stdout",
     "output_type": "stream",
     "text": [
      "<class 'pandas.core.frame.DataFrame'>\n",
      "RangeIndex: 1499 entries, 0 to 1498\n",
      "Data columns (total 4 columns):\n",
      "code           1499 non-null object\n",
      "name           1499 non-null object\n",
      "countryname    1499 non-null object\n",
      "regionname     1499 non-null object\n",
      "dtypes: object(4)\n",
      "memory usage: 46.9+ KB\n",
      "None\n",
      "Environment and natural resources management    223\n",
      "Rural development                               202\n",
      "Human development                               197\n",
      "Public sector governance                        184\n",
      "Social protection and risk management           158\n",
      "Financial and private sector development        130\n",
      "                                                122\n",
      "Social dev/gender/inclusion                     119\n",
      "Trade and integration                            72\n",
      "Urban development                                47\n",
      "Economic management                              33\n",
      "Rule of law                                      12\n",
      "Name: name, dtype: int64\n"
     ]
    }
   ],
   "source": [
    "#normalize the mjtheme_namecode column into its own dataframe themes and set index to code and sort by index\n",
    "themes = json_normalize(json_data,'mjtheme_namecode',['countryname','regionname']).sort_values('code').reset_index()\n",
    "del(themes['index'])\n",
    "#see info about themes\n",
    "print(themes.info())\n",
    "print(themes.name.value_counts())\n"
   ]
  },
  {
   "cell_type": "code",
   "execution_count": 22,
   "metadata": {},
   "outputs": [
    {
     "name": "stdout",
     "output_type": "stream",
     "text": [
      "{'1': 'Economic management', '10': 'Rural development', '11': 'Environment and natural resources management', '2': 'Public sector governance', '3': 'Rule of law', '4': 'Financial and private sector development', '5': 'Trade and integration', '6': 'Social protection and risk management', '7': 'Social dev/gender/inclusion', '8': 'Human development', '9': 'Urban development'}\n"
     ]
    }
   ],
   "source": [
    "#First form a dictionary with codes as keys and names as values.\n",
    "namecode = {}\n",
    "for index, row in themes.iterrows():\n",
    "    code = row['code']\n",
    "    name = row['name']\n",
    "    if code not in namecode.keys() & name != '':\n",
    "        namecode[code] = name\n",
    "#inspect the dictionary\n",
    "print(namecode)    "
   ]
  },
  {
   "cell_type": "code",
   "execution_count": 23,
   "metadata": {},
   "outputs": [],
   "source": [
    "#Now go through blanks in themes and pull the proper value from the namecode dictionary.\n",
    "for index, row in themes.iterrows():\n",
    "    if row['name'] == '':\n",
    "        row['name'] = namecode[row['code']]\n",
    "#inspect blanks to see if all names have been filled\n",
    "assert themes.name.any() != ''"
   ]
  },
  {
   "cell_type": "markdown",
   "metadata": {},
   "source": [
    "## Now that the blank values have been filled in, we can get the top 10 overall project themes and visualize the themes per region."
   ]
  },
  {
   "cell_type": "code",
   "execution_count": 24,
   "metadata": {},
   "outputs": [
    {
     "data": {
      "image/png": "[encoded data removed]",
      "text/plain": [
       "<matplotlib.figure.Figure at 0x20677bd5fd0>"
      ]
     },
     "metadata": {},
     "output_type": "display_data"
    }
   ],
   "source": [
    "#plot top 10 themes in barplot\n",
    "\n",
    "top10themes = themes.name.value_counts()[0:10]\n",
    "top10themes.plot(kind='bar')\n",
    "plt.title('Project Counts by Theme')\n",
    "plt.ylabel('Project Count')\n",
    "plt.show()"
   ]
  },
  {
   "cell_type": "markdown",
   "metadata": {},
   "source": [
    "## Taking a further look into the project themes by region and creating a visual plot to display the data."
   ]
  },
  {
   "cell_type": "code",
   "execution_count": 25,
   "metadata": {},
   "outputs": [
    {
     "data": {
      "text/html": [
       "<div>\n",
       "<style>\n",
       "    .dataframe thead tr:only-child th {\n",
       "        text-align: right;\n",
       "    }\n",
       "\n",
       "    .dataframe thead th {\n",
       "        text-align: left;\n",
       "    }\n",
       "\n",
       "    .dataframe tbody tr th {\n",
       "        vertical-align: top;\n",
       "    }\n",
       "</style>\n",
       "<table border=\"1\" class=\"dataframe\">\n",
       "  <thead>\n",
       "    <tr style=\"text-align: right;\">\n",
       "      <th>regionname</th>\n",
       "      <th>Africa</th>\n",
       "      <th>East Asia and Pacific</th>\n",
       "      <th>Europe and Central Asia</th>\n",
       "      <th>Latin America and Caribbean</th>\n",
       "      <th>Middle East and North Africa</th>\n",
       "      <th>Other</th>\n",
       "      <th>South Asia</th>\n",
       "    </tr>\n",
       "    <tr>\n",
       "      <th>name</th>\n",
       "      <th></th>\n",
       "      <th></th>\n",
       "      <th></th>\n",
       "      <th></th>\n",
       "      <th></th>\n",
       "      <th></th>\n",
       "      <th></th>\n",
       "    </tr>\n",
       "  </thead>\n",
       "  <tbody>\n",
       "    <tr>\n",
       "      <th>Economic management</th>\n",
       "      <td>11</td>\n",
       "      <td>6</td>\n",
       "      <td>8</td>\n",
       "      <td>6</td>\n",
       "      <td>5</td>\n",
       "      <td>0</td>\n",
       "      <td>2</td>\n",
       "    </tr>\n",
       "    <tr>\n",
       "      <th>Environment and natural resources management</th>\n",
       "      <td>62</td>\n",
       "      <td>56</td>\n",
       "      <td>44</td>\n",
       "      <td>27</td>\n",
       "      <td>25</td>\n",
       "      <td>4</td>\n",
       "      <td>32</td>\n",
       "    </tr>\n",
       "    <tr>\n",
       "      <th>Financial and private sector development</th>\n",
       "      <td>59</td>\n",
       "      <td>34</td>\n",
       "      <td>18</td>\n",
       "      <td>7</td>\n",
       "      <td>18</td>\n",
       "      <td>0</td>\n",
       "      <td>10</td>\n",
       "    </tr>\n",
       "    <tr>\n",
       "      <th>Human development</th>\n",
       "      <td>66</td>\n",
       "      <td>28</td>\n",
       "      <td>32</td>\n",
       "      <td>24</td>\n",
       "      <td>20</td>\n",
       "      <td>1</td>\n",
       "      <td>39</td>\n",
       "    </tr>\n",
       "    <tr>\n",
       "      <th>Public sector governance</th>\n",
       "      <td>74</td>\n",
       "      <td>31</td>\n",
       "      <td>26</td>\n",
       "      <td>29</td>\n",
       "      <td>19</td>\n",
       "      <td>0</td>\n",
       "      <td>20</td>\n",
       "    </tr>\n",
       "    <tr>\n",
       "      <th>Rule of law</th>\n",
       "      <td>6</td>\n",
       "      <td>2</td>\n",
       "      <td>4</td>\n",
       "      <td>2</td>\n",
       "      <td>0</td>\n",
       "      <td>0</td>\n",
       "      <td>1</td>\n",
       "    </tr>\n",
       "    <tr>\n",
       "      <th>Rural development</th>\n",
       "      <td>76</td>\n",
       "      <td>37</td>\n",
       "      <td>33</td>\n",
       "      <td>21</td>\n",
       "      <td>14</td>\n",
       "      <td>1</td>\n",
       "      <td>34</td>\n",
       "    </tr>\n",
       "    <tr>\n",
       "      <th>Social dev/gender/inclusion</th>\n",
       "      <td>32</td>\n",
       "      <td>23</td>\n",
       "      <td>11</td>\n",
       "      <td>18</td>\n",
       "      <td>18</td>\n",
       "      <td>1</td>\n",
       "      <td>27</td>\n",
       "    </tr>\n",
       "    <tr>\n",
       "      <th>Social protection and risk management</th>\n",
       "      <td>47</td>\n",
       "      <td>24</td>\n",
       "      <td>19</td>\n",
       "      <td>34</td>\n",
       "      <td>24</td>\n",
       "      <td>0</td>\n",
       "      <td>20</td>\n",
       "    </tr>\n",
       "    <tr>\n",
       "      <th>Trade and integration</th>\n",
       "      <td>29</td>\n",
       "      <td>20</td>\n",
       "      <td>14</td>\n",
       "      <td>3</td>\n",
       "      <td>2</td>\n",
       "      <td>0</td>\n",
       "      <td>9</td>\n",
       "    </tr>\n",
       "    <tr>\n",
       "      <th>Urban development</th>\n",
       "      <td>20</td>\n",
       "      <td>11</td>\n",
       "      <td>0</td>\n",
       "      <td>7</td>\n",
       "      <td>6</td>\n",
       "      <td>0</td>\n",
       "      <td>6</td>\n",
       "    </tr>\n",
       "  </tbody>\n",
       "</table>\n",
       "</div>"
      ],
      "text/plain": [
       "regionname                                    Africa  East Asia and Pacific  \\\n",
       "name                                                                          \n",
       "Economic management                               11                      6   \n",
       "Environment and natural resources management      62                     56   \n",
       "Financial and private sector development          59                     34   \n",
       "Human development                                 66                     28   \n",
       "Public sector governance                          74                     31   \n",
       "Rule of law                                        6                      2   \n",
       "Rural development                                 76                     37   \n",
       "Social dev/gender/inclusion                       32                     23   \n",
       "Social protection and risk management             47                     24   \n",
       "Trade and integration                             29                     20   \n",
       "Urban development                                 20                     11   \n",
       "\n",
       "regionname                                    Europe and Central Asia  \\\n",
       "name                                                                    \n",
       "Economic management                                                 8   \n",
       "Environment and natural resources management                       44   \n",
       "Financial and private sector development                           18   \n",
       "Human development                                                  32   \n",
       "Public sector governance                                           26   \n",
       "Rule of law                                                         4   \n",
       "Rural development                                                  33   \n",
       "Social dev/gender/inclusion                                        11   \n",
       "Social protection and risk management                              19   \n",
       "Trade and integration                                              14   \n",
       "Urban development                                                   0   \n",
       "\n",
       "regionname                                    Latin America and Caribbean  \\\n",
       "name                                                                        \n",
       "Economic management                                                     6   \n",
       "Environment and natural resources management                           27   \n",
       "Financial and private sector development                                7   \n",
       "Human development                                                      24   \n",
       "Public sector governance                                               29   \n",
       "Rule of law                                                             2   \n",
       "Rural development                                                      21   \n",
       "Social dev/gender/inclusion                                            18   \n",
       "Social protection and risk management                                  34   \n",
       "Trade and integration                                                   3   \n",
       "Urban development                                                       7   \n",
       "\n",
       "regionname                                    Middle East and North Africa  \\\n",
       "name                                                                         \n",
       "Economic management                                                      5   \n",
       "Environment and natural resources management                            25   \n",
       "Financial and private sector development                                18   \n",
       "Human development                                                       20   \n",
       "Public sector governance                                                19   \n",
       "Rule of law                                                              0   \n",
       "Rural development                                                       14   \n",
       "Social dev/gender/inclusion                                             18   \n",
       "Social protection and risk management                                   24   \n",
       "Trade and integration                                                    2   \n",
       "Urban development                                                        6   \n",
       "\n",
       "regionname                                    Other  South Asia  \n",
       "name                                                             \n",
       "Economic management                               0           2  \n",
       "Environment and natural resources management      4          32  \n",
       "Financial and private sector development          0          10  \n",
       "Human development                                 1          39  \n",
       "Public sector governance                          0          20  \n",
       "Rule of law                                       0           1  \n",
       "Rural development                                 1          34  \n",
       "Social dev/gender/inclusion                       1          27  \n",
       "Social protection and risk management             0          20  \n",
       "Trade and integration                             0           9  \n",
       "Urban development                                 0           6  "
      ]
     },
     "execution_count": 25,
     "metadata": {},
     "output_type": "execute_result"
    }
   ],
   "source": [
    "#make a new table pivoted on theme name and region\n",
    "pivot_themes = pd.pivot_table(themes,index='name',columns='regionname',values='code',aggfunc='count', fill_value=0)\n",
    "\n",
    "pivot_themes"
   ]
  },
  {
   "cell_type": "code",
   "execution_count": 48,
   "metadata": {},
   "outputs": [
    {
     "data": {
      "image/png": "[encoded data removed]",
      "text/plain": [
       "<matplotlib.figure.Figure at 0x20600685710>"
      ]
     },
     "metadata": {},
     "output_type": "display_data"
    }
   ],
   "source": [
    "#Create plot of the project themes by region.\n",
    "pivot_themes.plot(kind='bar',)\n",
    "plt.ylabel('Project Count')\n",
    "plt.xlabel('Theme')\n",
    "plt.title('Themes by Region')\n",
    "plt.legend(bbox_to_anchor=(1.05, 1), loc=2, borderaxespad=0.)\n",
    "mpl.rcParams['figure.dpi']=mpl.rcParamsDefault['figure.dpi'] * 1.2\n",
    "plt.show()"
   ]
  }
 ],
 "metadata": {
  "kernelspec": {
   "display_name": "Python 3",
   "language": "python",
   "name": "python3"
  },
  "language_info": {
   "codemirror_mode": {
    "name": "ipython",
    "version": 3
   },
   "file_extension": ".py",
   "mimetype": "text/x-python",
   "name": "python",
   "nbconvert_exporter": "python",
   "pygments_lexer": "ipython3",
   "version": "3.6.3"
  }
 },
 "nbformat": 4,
 "nbformat_minor": 1
}
