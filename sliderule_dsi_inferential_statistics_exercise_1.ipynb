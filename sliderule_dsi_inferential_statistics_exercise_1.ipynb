{
 "cells": [
  {
   "cell_type": "markdown",
   "metadata": {},
   "source": [
    "# What is the True Normal Human Body Temperature? \n",
    "\n",
    "#### Background\n",
    "\n",
    "The mean normal body temperature was held to be 37$^{\\circ}$C or 98.6$^{\\circ}$F for more than 120 years since it was first conceptualized and reported by Carl Wunderlich in a famous 1868 book. But, is this value statistically correct?"
   ]
  },
  {
   "cell_type": "markdown",
   "metadata": {},
   "source": [
    "<h3>Exercises</h3>\n",
    "\n",
    "<p>In this exercise, you will analyze a dataset of human body temperatures and employ the concepts of hypothesis testing, confidence intervals, and statistical significance.</p>\n",
    "\n",
    "<p>Answer the following questions <b>in this notebook below and submit to your Github account</b>.</p> \n",
    "\n",
    "<ol>\n",
    "<li>  Is the distribution of body temperatures normal? \n",
    "    <ul>\n",
    "    <li> Although this is not a requirement for the Central Limit Theorem to hold (read the introduction on Wikipedia's page about the CLT carefully: https://en.wikipedia.org/wiki/Central_limit_theorem), it gives us some peace of mind that the population may also be normally distributed if we assume that this sample is representative of the population.\n",
    "    <li> Think about the way you're going to check for the normality of the distribution. Graphical methods are usually used first, but there are also other ways: https://en.wikipedia.org/wiki/Normality_test\n",
    "    </ul>\n",
    "<li>  Is the sample size large? Are the observations independent?\n",
    "    <ul>\n",
    "    <li> Remember that this is a condition for the Central Limit Theorem, and hence the statistical tests we are using, to apply.\n",
    "    </ul>\n",
    "<li>  Is the true population mean really 98.6 degrees F?\n",
    "    <ul>\n",
    "    <li> First, try a bootstrap hypothesis test.\n",
    "    <li> Now, let's try frequentist statistical testing. Would you use a one-sample or two-sample test? Why?\n",
    "    <li> In this situation, is it appropriate to use the $t$ or $z$ statistic? \n",
    "    <li> Now try using the other test. How is the result be different? Why?\n",
    "    </ul>\n",
    "<li>  Draw a small sample of size 10 from the data and repeat both frequentist tests. \n",
    "    <ul>\n",
    "    <li> Which one is the correct one to use? \n",
    "    <li> What do you notice? What does this tell you about the difference in application of the $t$ and $z$ statistic?\n",
    "    </ul>\n",
    "<li>  At what temperature should we consider someone's temperature to be \"abnormal\"?\n",
    "    <ul>\n",
    "    <li> As in the previous example, try calculating everything using the boostrap approach, as well as the frequentist approach.\n",
    "    <li> Start by computing the margin of error and confidence interval. When calculating the confidence interval, keep in mind that you should use the appropriate formula for one draw, and not N draws.\n",
    "    </ul>\n",
    "<li>  Is there a significant difference between males and females in normal temperature?\n",
    "    <ul>\n",
    "    <li> What testing approach did you use and why?\n",
    "    <li> Write a story with your conclusion in the context of the original problem.\n",
    "    </ul>\n",
    "</ol>\n",
    "\n",
    "You can include written notes in notebook cells using Markdown: \n",
    "   - In the control panel at the top, choose Cell > Cell Type > Markdown\n",
    "   - Markdown syntax: http://nestacms.com/docs/creating-content/markdown-cheat-sheet\n",
    "\n",
    "#### Resources\n",
    "\n",
    "+ Information and data sources: http://www.amstat.org/publications/jse/datasets/normtemp.txt, http://www.amstat.org/publications/jse/jse_data_archive.htm\n",
    "+ Markdown syntax: http://nestacms.com/docs/creating-content/markdown-cheat-sheet\n",
    "\n",
    "****"
   ]
  },
  {
   "cell_type": "code",
   "execution_count": 1,
   "metadata": {},
   "outputs": [],
   "source": [
    "import pandas as pd\n",
    "import numpy as np\n",
    "import matplotlib.pyplot as plt\n",
    "import seaborn as sns\n",
    "from scipy import stats\n",
    "from statsmodels.distributions.empirical_distribution import ECDF\n",
    "from statsmodels.stats.weightstats import ztest\n",
    "\n",
    "df = pd.read_csv('data/human_body_temperature.csv')"
   ]
  },
  {
   "cell_type": "markdown",
   "metadata": {
    "collapsed": true
   },
   "source": [
    "### First I'll do some EDA of the dataframe from the imported data."
   ]
  },
  {
   "cell_type": "code",
   "execution_count": 2,
   "metadata": {},
   "outputs": [
    {
     "name": "stdout",
     "output_type": "stream",
     "text": [
      "<class 'pandas.core.frame.DataFrame'>\n",
      "RangeIndex: 130 entries, 0 to 129\n",
      "Data columns (total 3 columns):\n",
      "temperature    130 non-null float64\n",
      "gender         130 non-null object\n",
      "heart_rate     130 non-null float64\n",
      "dtypes: float64(2), object(1)\n",
      "memory usage: 3.1+ KB\n",
      "None\n",
      "   temperature gender  heart_rate\n",
      "0         99.3      F        68.0\n",
      "1         98.4      F        81.0\n",
      "2         97.8      M        73.0\n",
      "3         99.2      F        66.0\n",
      "4         98.0      F        73.0\n",
      "       temperature  heart_rate\n",
      "count   130.000000  130.000000\n",
      "mean     98.249231   73.761538\n",
      "std       0.733183    7.062077\n",
      "min      96.300000   57.000000\n",
      "25%      97.800000   69.000000\n",
      "50%      98.300000   74.000000\n",
      "75%      98.700000   79.000000\n",
      "max     100.800000   89.000000\n"
     ]
    }
   ],
   "source": [
    "print(df.info())\n",
    "print(df.head())\n",
    "print(df.describe())"
   ]
  },
  {
   "cell_type": "markdown",
   "metadata": {},
   "source": [
    "### 1. Is the distribution of body temperatures normal?  \n",
    "   * First start out with graphical EDA.\n",
    "   * Then move into the Normality Test. "
   ]
  },
  {
   "cell_type": "code",
   "execution_count": 3,
   "metadata": {},
   "outputs": [
    {
     "data": {
      "image/png": "[encoded data removed]",
      "text/plain": [
       "<matplotlib.figure.Figure at 0x173bb6e2ba8>"
      ]
     },
     "metadata": {},
     "output_type": "display_data"
    }
   ],
   "source": [
    "#Look at a histogram of the data against what the theoretical normal distribution would like.\n",
    "df.temperature.plot(kind='hist',color='green', normed=True, alpha=0.3, bins=15)\n",
    "\n",
    "#Creating the theoretical normal distribution of the data.\n",
    "normal_samples = np.random.normal(df.temperature.mean(),df.temperature.std(),size=10000)\n",
    "plt.hist(normal_samples, histtype='step', bins=100, normed=True)\n",
    "\n",
    "plt.yticks(np.arange(0,1.2,0.2))\n",
    "plt.title('Probability Distribution Function of the Human Body Temperature')\n",
    "plt.xlabel('Temperature')\n",
    "plt.ylabel('PDF')\n",
    "plt.legend(('Empirical Temperatures','Normal Theoretical Temperatures'))\n",
    "plt.show()"
   ]
  },
  {
   "cell_type": "code",
   "execution_count": 4,
   "metadata": {},
   "outputs": [
    {
     "data": {
      "image/png": "[encoded data removed]",
      "text/plain": [
       "<matplotlib.figure.Figure at 0x173bbb574e0>"
      ]
     },
     "metadata": {},
     "output_type": "display_data"
    }
   ],
   "source": [
    "#Now look into the empirical cumulative distribution vs. the theoretical for normal data.\n",
    "y = ECDF(df.temperature)\n",
    "y_theor = ECDF(normal_samples)\n",
    "\n",
    "plt.plot(df.temperature,y(df.temperature),marker='.',linestyle='None')\n",
    "plt.plot(normal_samples,y_theor(normal_samples),marker='.',linestyle='None',alpha=0.3)\n",
    "\n",
    "plt.title('Empirical Cumulative Distributions of Human Body Temperature')\n",
    "plt.xlabel('Temperature')\n",
    "plt.ylabel('ECDF')\n",
    "plt.legend(('Empirical Temperatures','Normal Theoretical Temperatures'))\n",
    "plt.show()"
   ]
  },
  {
   "cell_type": "markdown",
   "metadata": {},
   "source": [
    "### After looking at the distributions, it seems that the data is fairly normal.  To be more quantitative, I will run some Normality Tests."
   ]
  },
  {
   "cell_type": "code",
   "execution_count": 5,
   "metadata": {},
   "outputs": [
    {
     "name": "stdout",
     "output_type": "stream",
     "text": [
      "The D’Agostino and Pearson’s test statistic is 2.703801433319203 and the pvalue of the test is 0.2587479863488254.\n",
      "The Shapiro and Wilk test statistic is 0.9865769743919373 and the pvalue of the test is 0.2331680953502655.\n"
     ]
    }
   ],
   "source": [
    "#run the stats normal test and stats shapiro test\n",
    "statistic, pvalue = stats.mstats.normaltest(df.temperature)\n",
    "print(\"The D’Agostino and Pearson’s test statistic is {} and the pvalue of the test is {}.\".format(statistic, pvalue))\n",
    "statistic, pvalue = stats.shapiro(df.temperature)\n",
    "print(\"The Shapiro and Wilk test statistic is {} and the pvalue of the test is {}.\".format(statistic, pvalue))"
   ]
  },
  {
   "cell_type": "markdown",
   "metadata": {},
   "source": [
    "### The Normality tests used here both test the null hypothesis that the data comes from a normal distribution.  The fact that both tests have pvalues greater than 0.2 means that we can't reject the null hypothesis.  Moreover, it is most likely not too big of an error to treat the temperature data as if it is distributed normally.\n",
    "\n",
    "***\n",
    "\n",
    "### 2. Is the sample size large? Are the observations independent?\n",
    "* The sample size is large especially concerning running z tests (n>30).\n",
    "* The background of the data snippet seems to be collected in an independent manner.  Having not taking the data myself, I cannot discuss more on the topic.\n",
    "    \n",
    "***\n",
    "\n",
    "### 3. Is the true population mean really 98.6 degrees F?\n",
    "* First, try a bootstrap hypothesis test.\n",
    "* Now, let's try frequentist statistical testing. Would you use a one-sample or two-sample test? Why?\n",
    "* In this situation, is it appropriate to use the  tt  or  zz  statistic?\n",
    "* Now try using the other test. How is the result be different? Why?\n",
    "    \n",
    "***\n",
    "\n",
    "#### Bootstrap Hypothesis Test\n",
    "* The null hypothesis is that the true mean human body temperature is 98.6.  \n",
    "* In order to test I will shift the data as if it had a mean of 98.6.\n",
    "* I will then generate 10000 bootstrap samples from the shifted data.\n",
    "* The test statistic is going to be the mean of the bootstrap sample minus 98.6.\n",
    "* The p value will be calculated as the number of bootstrap samples that have a test statistic value at least as extreme as the calculated empirical test statistic value of the real data mean minus 98.6."
   ]
  },
  {
   "cell_type": "code",
   "execution_count": 6,
   "metadata": {},
   "outputs": [
    {
     "name": "stdout",
     "output_type": "stream",
     "text": [
      "The empirical difference of the data mean from 98.6 degrees F is -0.35076923076921673.\n",
      "The p-value is: 0.0\n"
     ]
    }
   ],
   "source": [
    "#first get the empirical test statistic and create the test statistic function\n",
    "def mean_diff(data):\n",
    "    return np.mean(data)-98.6\n",
    "\n",
    "emp = mean_diff(df.temperature)\n",
    "print(\"The empirical difference of the data mean from 98.6 degrees F is {}.\".format(emp))\n",
    "\n",
    "#shift the data to have the mean 98.6\n",
    "shifted_temp = df.temperature - np.mean(df.temperature) + 98.6\n",
    "\n",
    "#create the bootstrap replicates function\n",
    "def bs_replicates(data,func,size):\n",
    "    bs_reps = np.empty(size)\n",
    "    for i in range(size):\n",
    "        bs_temp = np.random.choice(data, size=len(data))\n",
    "        bs_reps[i] = func(bs_temp)\n",
    "    return bs_reps\n",
    "\n",
    "#now create a distribution of bootstrap replicates\n",
    "reps = bs_replicates(shifted_temp,mean_diff,1000000)\n",
    "p_val = np.sum(reps <= emp)/reps.size\n",
    "print(\"The p-value is: {}\".format(p_val))"
   ]
  },
  {
   "cell_type": "markdown",
   "metadata": {},
   "source": [
    "#### The resulting p value from 1 million bootstrap samples is 0.0, which suggests that the result is statistically significant and I can reject the null hypothesis that the mean of the temperature data is 98.6 degrees F.\n",
    "\n",
    "***\n",
    "\n",
    "#### Z-test\n",
    "* The test needed is a one sample test as we only have one dataset sample.  So we have one sample set of data that we are comparing to a mean without data.  In this case, it is appropriate to use the z test statistic.  This is because the dataset is large (n > 30) and the data can be assumed to be normally distributed as shown above.  Moreover, for the z test to be valid we need to assume that the variance of the population is the variance of the sample set."
   ]
  },
  {
   "cell_type": "code",
   "execution_count": 7,
   "metadata": {},
   "outputs": [
    {
     "name": "stdout",
     "output_type": "stream",
     "text": [
      "The z_score is -5.4548232923645195, and the p-value is 4.9021570141012155e-08.\n"
     ]
    }
   ],
   "source": [
    "#z test for data having a mean of 98.6\n",
    "z_score, p_val = ztest(df.temperature,value=98.6)\n",
    "print(\"The z_score is {}, and the p-value is {}.\".format(z_score,p_val))"
   ]
  },
  {
   "cell_type": "markdown",
   "metadata": {},
   "source": [
    "#### T-test\n",
    "* If we try the t-test, the result is basically similar to the t statistic because it should approach the z statistic in large sample size scenarios.  Also, in large sample scenarios the t distribution approaches the normal distribution assumed in the z test."
   ]
  },
  {
   "cell_type": "code",
   "execution_count": 8,
   "metadata": {},
   "outputs": [
    {
     "name": "stdout",
     "output_type": "stream",
     "text": [
      "The t score is -5.4548232923645195, and the p-value is 2.4106320415561276e-07.\n"
     ]
    }
   ],
   "source": [
    "#t-test for mean of 98.6\n",
    "t_stat, p_val = stats.ttest_1samp(df.temperature,popmean=98.6)\n",
    "print(\"The t score is {}, and the p-value is {}.\".format(t_stat,p_val))"
   ]
  },
  {
   "cell_type": "markdown",
   "metadata": {},
   "source": [
    "#### Both z and t tests gave similar scores and p value, which both agree with the bootstrap analysis results that the test results are statistically significant, and we can reject the null hypothesis that the mean is 98.6 degrees F.\n",
    "\n",
    "***\n",
    "\n",
    "### 4. Draw a small sample of size 10 from the data and repeat both frequentist tests.\n",
    "* Which one is the correct one to use?\n",
    "* What do you notice? What does this tell you about the difference in application of the  tt  and  zz  statistic?\n",
    "\n",
    "***\n",
    "\n",
    "* The correct test to use is the t test in this case as the sample size is small (n < 30) and the data will most likely not be normally distributed.  Moreover, it is illogical to assume that the population variance can be estimated from the sample variance."
   ]
  },
  {
   "cell_type": "code",
   "execution_count": 9,
   "metadata": {},
   "outputs": [
    {
     "name": "stdout",
     "output_type": "stream",
     "text": [
      "The z_score is -0.9158393362252509, and the p-value is 0.3597511684557182.\n",
      "The t score is -0.9158393362252508, and the p-value is 0.383634128555977.\n"
     ]
    }
   ],
   "source": [
    "#t-test and z-test with a sample size of 10\n",
    "samp_10 = np.random.choice(df.temperature, size=10)\n",
    "\n",
    "#z test for data having a mean of 98.6\n",
    "z_score, p_val = ztest(samp_10,value=98.6)\n",
    "print(\"The z_score is {}, and the p-value is {}.\".format(z_score,p_val))\n",
    "\n",
    "#t-test for mean of 98.6\n",
    "t_stat, p_val = stats.ttest_1samp(samp_10,popmean=98.6)\n",
    "print(\"The t score is {}, and the p-value is {}.\".format(t_stat,p_val))\n"
   ]
  },
  {
   "cell_type": "markdown",
   "metadata": {},
   "source": [
    "* After running both tests, both results are no longer statistically significant suggesting that we can't reject the null hypothesis and the mean temperature may be 98.6 degrees F.  This suggests that part of statistical power relies on sample size.\n",
    "\n",
    "***\n",
    "\n",
    "### 5. At what temperature should we consider someone's temperature to be \"abnormal\"?\n",
    "* As in the previous example, try calculating everything using the boostrap approach, as well as the frequentist approach.\n",
    "* Start by computing the margin of error and confidence interval. When calculating the confidence interval, keep in mind that you should use the appropriate formula for one draw, and not N draws."
   ]
  },
  {
   "cell_type": "code",
   "execution_count": 22,
   "metadata": {},
   "outputs": [
    {
     "name": "stdout",
     "output_type": "stream",
     "text": [
      "The bootstrap margin of error is 0.12733754935737285.\n",
      "The bootstrap 95% confidence interval for the mean temperature is 98.1218932198734 to 98.37656831858816.\n",
      "The frequentist margin of error is 0.12860883367578205.\n",
      "The frequentist 95% confidence interval for the mean temperature is 98.120621935555 to 98.37783960290656.\n"
     ]
    }
   ],
   "source": [
    "#margin of error and the confidence interval from the bootstrap method results above\n",
    "def margin_of_error_95(data):\n",
    "    return (2 * (np.std(data)/np.sqrt(data.size)))\n",
    "\n",
    "#bootstrap margin of error and 95% confidence interval of the mean\n",
    "moe = np.mean(bs_replicates(df.temperature, margin_of_error_95, 10000))\n",
    "print(\"The bootstrap margin of error is {}.\".format(moe))\n",
    "print(\"The bootstrap 95% confidence interval for the mean temperature is {} to {}.\"\n",
    "      .format(np.mean(df.temperature)-moe,np.mean(df.temperature)+moe))\n",
    "\n",
    "#now to calculate the margin of error and 95% confidence interval with frequentist approach\n",
    "sem = stats.sem(df.temperature)\n",
    "freq_moe = 2*sem\n",
    "print(\"The frequentist margin of error is {}.\".format(freq_moe))\n",
    "print(\"The frequentist 95% confidence interval for the mean temperature is {} to {}.\"\n",
    "      .format(df.temperature.mean()-freq_moe,df.temperature.mean()+freq_moe))"
   ]
  },
  {
   "cell_type": "markdown",
   "metadata": {},
   "source": [
    "* The bootstrap and frequentist approach produce very similar margins of error and thus 95% confidence intervals of the sample mean."
   ]
  },
  {
   "cell_type": "code",
   "execution_count": 26,
   "metadata": {},
   "outputs": [
    {
     "name": "stdout",
     "output_type": "stream",
     "text": [
      "The normal 95th percentile range for the body temperature is 96.76999 to 99.578699.\n"
     ]
    }
   ],
   "source": [
    "#bootstraps of percentiles for 95 percentile range for the dataset\n",
    "def per_97th(data):\n",
    "    return np.percentile(data,97.5)\n",
    "def per_2nd(data):\n",
    "    return np.percentile(data,2.5)\n",
    "per_97 = np.mean(bs_replicates(df.temperature,per_97th,10000))\n",
    "per_2 = np.mean(bs_replicates(df.temperature,per_2nd,10000))\n",
    "print(\"The normal 95th percentile range for the body temperature is {} to {}.\".format(per_2,per_97))"
   ]
  },
  {
   "cell_type": "markdown",
   "metadata": {},
   "source": [
    "* Being that the body temperatures are distributed normally, I will take abnormal temperatures to be 2 standard deviations from the sample mean or roughly where 95% of the data lies.  I will use the bootstrap method to generate an average 95th percentile data range to define the normal body temperature range.  Anything outside of this range will be abnormal body temperatures.  This is the best that can be done without more data and labeled cases of body temperatures when people were sick and not sick.\n",
    "\n",
    "***\n",
    "\n",
    "### 6. Is there a significant difference between males and females in normal temperature?\n",
    "* What testing approach did you use and why?\n",
    "* Write a story with your conclusion in the context of the original problem.\n",
    "\n",
    "\n",
    "* First, do some EDA on the different sexes."
   ]
  },
  {
   "cell_type": "code",
   "execution_count": 27,
   "metadata": {
    "scrolled": false
   },
   "outputs": [
    {
     "name": "stdout",
     "output_type": "stream",
     "text": [
      "Female\n",
      "       temperature  heart_rate\n",
      "count    65.000000   65.000000\n",
      "mean     98.393846   74.153846\n",
      "std       0.743488    8.105227\n",
      "min      96.400000   57.000000\n",
      "25%      98.000000   68.000000\n",
      "50%      98.400000   76.000000\n",
      "75%      98.800000   80.000000\n",
      "max     100.800000   89.000000\n",
      "\n",
      "Male\n",
      "       temperature  heart_rate\n",
      "count    65.000000   65.000000\n",
      "mean     98.104615   73.369231\n",
      "std       0.698756    5.875184\n",
      "min      96.300000   58.000000\n",
      "25%      97.600000   70.000000\n",
      "50%      98.100000   73.000000\n",
      "75%      98.600000   78.000000\n",
      "max      99.500000   86.000000\n"
     ]
    }
   ],
   "source": [
    "#Look at summary stats by gender.\n",
    "female = df[df.gender=='F']\n",
    "male = df[df.gender=='M']\n",
    "print('Female')\n",
    "print(female.describe())\n",
    "print('')\n",
    "print('Male')\n",
    "print(male.describe())"
   ]
  },
  {
   "cell_type": "code",
   "execution_count": 35,
   "metadata": {},
   "outputs": [
    {
     "data": {
      "image/png": "[encoded data removed]",
      "text/plain": [
       "<matplotlib.figure.Figure at 0x173bcb33320>"
      ]
     },
     "metadata": {},
     "output_type": "display_data"
    }
   ],
   "source": [
    "#Now do some visual EDA by looking at the histograms of both male, female, and entire sample\n",
    "plt.figure(figsize=(12,8))\n",
    "male.temperature.plot(kind='hist',color='blue', normed=True, alpha=0.3, bins=np.arange(96,101,.2))\n",
    "female.temperature.plot(kind='hist',color='pink', normed=True, alpha=0.3, bins=np.arange(96,101,.2))\n",
    "df.temperature.plot(kind='hist',color='green', normed=True, alpha=0.3, bins=np.arange(96,101,.2))\n",
    "plt.yticks(np.arange(0,1.2,0.2))\n",
    "plt.xticks(np.arange(96,101,.2),rotation=45)\n",
    "plt.ylabel('PDF')\n",
    "plt.xlabel('Temperature')\n",
    "plt.legend(['male','female','sample'],loc='upper right')\n",
    "plt.show()"
   ]
  },
  {
   "cell_type": "markdown",
   "metadata": {
    "collapsed": true
   },
   "source": [
    "* At first glance, it seems there may be a slight difference between male and females.  \n",
    "* I will test this further by testing a hypothesis.\n",
    "    * The null hypothesis is that the there isn't a difference in means between male and female body temperatures.\n",
    "    * In order to test I will shift both datasets as if they had the same shared mean.\n",
    "    * I will then generate 10000 bootstrap samples each from the male and female shifted data.\n",
    "    * The test statistic is going to be the difference of means between male and female body temperatures.\n",
    "    * The p value will be calculated as the number of bootstrap samples that have a test statistic value at least as extreme as the calculated empirical test statistic value of the difference between means."
   ]
  },
  {
   "cell_type": "code",
   "execution_count": 40,
   "metadata": {},
   "outputs": [
    {
     "name": "stdout",
     "output_type": "stream",
     "text": [
      "The empirical difference of means is -0.289230769230727.\n",
      "The shared mean is 98.24923076923078.\n",
      "The p-value for the null hypothesis that the difference between means is 0: 0.0108.\n"
     ]
    }
   ],
   "source": [
    "#the empirical difference between means and the new calculated shared mean(mean of all the data)\n",
    "emp_mvf = np.mean(male.temperature) - np.mean(female.temperature)\n",
    "shared_mean = np.mean(df.temperature)\n",
    "print(\"The empirical difference of means is {}.\".format(emp_mvf))\n",
    "print(\"The shared mean is {}.\".format(shared_mean))\n",
    "\n",
    "#shift both male and female data by the shared mean\n",
    "shift_f = female.temperature - np.mean(female.temperature) + shared_mean\n",
    "shift_m = male.temperature - np.mean(male.temperature) + shared_mean\n",
    "\n",
    "#generate bootstrap samples of shifted mean data\n",
    "fem_means_reps = bs_replicates(shift_f, np.mean, 10000)\n",
    "mal_means_reps = bs_replicates(shift_m, np.mean, 10000)\n",
    "\n",
    "#now generate the bootstrap replicates(test statistics)\n",
    "diff_reps = mal_means_reps - fem_means_reps\n",
    "\n",
    "#calculate the p-value for the test\n",
    "p_val = np.sum(diff_reps <= emp_mvf)/diff_reps.size\n",
    "print(\"The p-value for the null hypothesis that the difference between means is 0: {}.\".format(p_val))\n",
    "\n"
   ]
  },
  {
   "cell_type": "markdown",
   "metadata": {},
   "source": [
    "* I will now also use a two tailed two sample t test as well."
   ]
  },
  {
   "cell_type": "code",
   "execution_count": 44,
   "metadata": {},
   "outputs": [
    {
     "name": "stdout",
     "output_type": "stream",
     "text": [
      "The t score for the two sided t test is -2.2854345381656103, and the p-value is 0.02393188312239561.\n"
     ]
    }
   ],
   "source": [
    "#two sampled t test\n",
    "t_score, p_val = stats.ttest_ind(male.temperature, female.temperature)\n",
    "print(\"The t score for the two sided t test is {}, and the p-value is {}.\".format(t_score,p_val))"
   ]
  },
  {
   "cell_type": "markdown",
   "metadata": {},
   "source": [
    "* The frequentist approach gives similar results suggesting a statistically significant result and possibility to reject the null hypothesis and say that the mean temperature between males and females is possibly different. \n",
    "\n",
    "\n",
    "* I chose to test for a difference in means because I believe this is the most indicative test statistic to use for this particular case.  We are interested in a difference in normal temperature between males and females, and the mean difference covers the question.\n",
    "* With the bootstrap test, we don't assume equal variance of the males and females and this is taken into account by generating the boostrap samples from each sex respectively.\n",
    "* With the t test, we assumed that the variances were equal and still the result was statistically significant."
   ]
  },
  {
   "cell_type": "code",
   "execution_count": null,
   "metadata": {
    "collapsed": true
   },
   "outputs": [],
   "source": []
  }
 ],
 "metadata": {
  "kernelspec": {
   "display_name": "Python 3",
   "language": "python",
   "name": "python3"
  },
  "language_info": {
   "codemirror_mode": {
    "name": "ipython",
    "version": 3
   },
   "file_extension": ".py",
   "mimetype": "text/x-python",
   "name": "python",
   "nbconvert_exporter": "python",
   "pygments_lexer": "ipython3",
   "version": "3.6.3"
  }
 },
 "nbformat": 4,
 "nbformat_minor": 1
}
